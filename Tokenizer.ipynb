{
  "nbformat": 4,
  "nbformat_minor": 0,
  "metadata": {
    "colab": {
      "provenance": [],
      "authorship_tag": "ABX9TyObT64utVEIVniFY2mH5Tjr",
      "include_colab_link": true
    },
    "kernelspec": {
      "name": "python3",
      "display_name": "Python 3"
    },
    "language_info": {
      "name": "python"
    }
  },
  "cells": [
    {
      "cell_type": "markdown",
      "metadata": {
        "id": "view-in-github",
        "colab_type": "text"
      },
      "source": [
        "<a href=\"https://colab.research.google.com/github/AhnafZahin/NITT_Chatbot/blob/main/Tokenizer.ipynb\" target=\"_parent\"><img src=\"https://colab.research.google.com/assets/colab-badge.svg\" alt=\"Open In Colab\"/></a>"
      ]
    },
    {
      "cell_type": "code",
      "source": [
        "from google.colab import files\n",
        "uploaded = files.upload()"
      ],
      "metadata": {
        "colab": {
          "base_uri": "https://localhost:8080/",
          "height": 73
        },
        "id": "mJjn_k5FlfcM",
        "outputId": "71566abc-6060-40a4-f283-a4621a0c7251"
      },
      "execution_count": 1,
      "outputs": [
        {
          "output_type": "display_data",
          "data": {
            "text/plain": [
              "<IPython.core.display.HTML object>"
            ],
            "text/html": [
              "\n",
              "     <input type=\"file\" id=\"files-1c505ae1-78cb-44a8-9952-612f094e56de\" name=\"files[]\" multiple disabled\n",
              "        style=\"border:none\" />\n",
              "     <output id=\"result-1c505ae1-78cb-44a8-9952-612f094e56de\">\n",
              "      Upload widget is only available when the cell has been executed in the\n",
              "      current browser session. Please rerun this cell to enable.\n",
              "      </output>\n",
              "      <script>// Copyright 2017 Google LLC\n",
              "//\n",
              "// Licensed under the Apache License, Version 2.0 (the \"License\");\n",
              "// you may not use this file except in compliance with the License.\n",
              "// You may obtain a copy of the License at\n",
              "//\n",
              "//      http://www.apache.org/licenses/LICENSE-2.0\n",
              "//\n",
              "// Unless required by applicable law or agreed to in writing, software\n",
              "// distributed under the License is distributed on an \"AS IS\" BASIS,\n",
              "// WITHOUT WARRANTIES OR CONDITIONS OF ANY KIND, either express or implied.\n",
              "// See the License for the specific language governing permissions and\n",
              "// limitations under the License.\n",
              "\n",
              "/**\n",
              " * @fileoverview Helpers for google.colab Python module.\n",
              " */\n",
              "(function(scope) {\n",
              "function span(text, styleAttributes = {}) {\n",
              "  const element = document.createElement('span');\n",
              "  element.textContent = text;\n",
              "  for (const key of Object.keys(styleAttributes)) {\n",
              "    element.style[key] = styleAttributes[key];\n",
              "  }\n",
              "  return element;\n",
              "}\n",
              "\n",
              "// Max number of bytes which will be uploaded at a time.\n",
              "const MAX_PAYLOAD_SIZE = 100 * 1024;\n",
              "\n",
              "function _uploadFiles(inputId, outputId) {\n",
              "  const steps = uploadFilesStep(inputId, outputId);\n",
              "  const outputElement = document.getElementById(outputId);\n",
              "  // Cache steps on the outputElement to make it available for the next call\n",
              "  // to uploadFilesContinue from Python.\n",
              "  outputElement.steps = steps;\n",
              "\n",
              "  return _uploadFilesContinue(outputId);\n",
              "}\n",
              "\n",
              "// This is roughly an async generator (not supported in the browser yet),\n",
              "// where there are multiple asynchronous steps and the Python side is going\n",
              "// to poll for completion of each step.\n",
              "// This uses a Promise to block the python side on completion of each step,\n",
              "// then passes the result of the previous step as the input to the next step.\n",
              "function _uploadFilesContinue(outputId) {\n",
              "  const outputElement = document.getElementById(outputId);\n",
              "  const steps = outputElement.steps;\n",
              "\n",
              "  const next = steps.next(outputElement.lastPromiseValue);\n",
              "  return Promise.resolve(next.value.promise).then((value) => {\n",
              "    // Cache the last promise value to make it available to the next\n",
              "    // step of the generator.\n",
              "    outputElement.lastPromiseValue = value;\n",
              "    return next.value.response;\n",
              "  });\n",
              "}\n",
              "\n",
              "/**\n",
              " * Generator function which is called between each async step of the upload\n",
              " * process.\n",
              " * @param {string} inputId Element ID of the input file picker element.\n",
              " * @param {string} outputId Element ID of the output display.\n",
              " * @return {!Iterable<!Object>} Iterable of next steps.\n",
              " */\n",
              "function* uploadFilesStep(inputId, outputId) {\n",
              "  const inputElement = document.getElementById(inputId);\n",
              "  inputElement.disabled = false;\n",
              "\n",
              "  const outputElement = document.getElementById(outputId);\n",
              "  outputElement.innerHTML = '';\n",
              "\n",
              "  const pickedPromise = new Promise((resolve) => {\n",
              "    inputElement.addEventListener('change', (e) => {\n",
              "      resolve(e.target.files);\n",
              "    });\n",
              "  });\n",
              "\n",
              "  const cancel = document.createElement('button');\n",
              "  inputElement.parentElement.appendChild(cancel);\n",
              "  cancel.textContent = 'Cancel upload';\n",
              "  const cancelPromise = new Promise((resolve) => {\n",
              "    cancel.onclick = () => {\n",
              "      resolve(null);\n",
              "    };\n",
              "  });\n",
              "\n",
              "  // Wait for the user to pick the files.\n",
              "  const files = yield {\n",
              "    promise: Promise.race([pickedPromise, cancelPromise]),\n",
              "    response: {\n",
              "      action: 'starting',\n",
              "    }\n",
              "  };\n",
              "\n",
              "  cancel.remove();\n",
              "\n",
              "  // Disable the input element since further picks are not allowed.\n",
              "  inputElement.disabled = true;\n",
              "\n",
              "  if (!files) {\n",
              "    return {\n",
              "      response: {\n",
              "        action: 'complete',\n",
              "      }\n",
              "    };\n",
              "  }\n",
              "\n",
              "  for (const file of files) {\n",
              "    const li = document.createElement('li');\n",
              "    li.append(span(file.name, {fontWeight: 'bold'}));\n",
              "    li.append(span(\n",
              "        `(${file.type || 'n/a'}) - ${file.size} bytes, ` +\n",
              "        `last modified: ${\n",
              "            file.lastModifiedDate ? file.lastModifiedDate.toLocaleDateString() :\n",
              "                                    'n/a'} - `));\n",
              "    const percent = span('0% done');\n",
              "    li.appendChild(percent);\n",
              "\n",
              "    outputElement.appendChild(li);\n",
              "\n",
              "    const fileDataPromise = new Promise((resolve) => {\n",
              "      const reader = new FileReader();\n",
              "      reader.onload = (e) => {\n",
              "        resolve(e.target.result);\n",
              "      };\n",
              "      reader.readAsArrayBuffer(file);\n",
              "    });\n",
              "    // Wait for the data to be ready.\n",
              "    let fileData = yield {\n",
              "      promise: fileDataPromise,\n",
              "      response: {\n",
              "        action: 'continue',\n",
              "      }\n",
              "    };\n",
              "\n",
              "    // Use a chunked sending to avoid message size limits. See b/62115660.\n",
              "    let position = 0;\n",
              "    do {\n",
              "      const length = Math.min(fileData.byteLength - position, MAX_PAYLOAD_SIZE);\n",
              "      const chunk = new Uint8Array(fileData, position, length);\n",
              "      position += length;\n",
              "\n",
              "      const base64 = btoa(String.fromCharCode.apply(null, chunk));\n",
              "      yield {\n",
              "        response: {\n",
              "          action: 'append',\n",
              "          file: file.name,\n",
              "          data: base64,\n",
              "        },\n",
              "      };\n",
              "\n",
              "      let percentDone = fileData.byteLength === 0 ?\n",
              "          100 :\n",
              "          Math.round((position / fileData.byteLength) * 100);\n",
              "      percent.textContent = `${percentDone}% done`;\n",
              "\n",
              "    } while (position < fileData.byteLength);\n",
              "  }\n",
              "\n",
              "  // All done.\n",
              "  yield {\n",
              "    response: {\n",
              "      action: 'complete',\n",
              "    }\n",
              "  };\n",
              "}\n",
              "\n",
              "scope.google = scope.google || {};\n",
              "scope.google.colab = scope.google.colab || {};\n",
              "scope.google.colab._files = {\n",
              "  _uploadFiles,\n",
              "  _uploadFilesContinue,\n",
              "};\n",
              "})(self);\n",
              "</script> "
            ]
          },
          "metadata": {}
        },
        {
          "output_type": "stream",
          "name": "stdout",
          "text": [
            "Saving DataSet.json to DataSet.json\n"
          ]
        }
      ]
    },
    {
      "cell_type": "code",
      "source": [
        "import json\n",
        "\n",
        "# Assume the file name is 'dataset.json'\n",
        "with open('DataSet.json', 'r') as file:\n",
        "    data = json.load(file)"
      ],
      "metadata": {
        "id": "uJzwQpbtlgwV"
      },
      "execution_count": 2,
      "outputs": []
    },
    {
      "cell_type": "code",
      "source": [
        "import tensorflow as tf\n",
        "from tensorflow.keras.preprocessing.text import Tokenizer\n",
        "from tensorflow.keras.preprocessing.sequence import pad_sequences\n",
        "\n",
        "patterns = []\n",
        "responses = []\n",
        "tags = []\n",
        "for intent in data:\n",
        "    for pattern in intent['patterns']:\n",
        "        patterns.append(pattern)\n",
        "        responses.append(intent['responses'][0])  # Assuming you will take the first response as the desired response\n",
        "        tags.append(intent['tag'])\n",
        "\n",
        "# Tokenize the patterns\n",
        "tokenizer = Tokenizer(oov_token='<OOV>')\n",
        "tokenizer.fit_on_texts(patterns)\n",
        "word_index = tokenizer.word_index\n",
        "sequences = tokenizer.texts_to_sequences(patterns)\n",
        "padded_sequences = pad_sequences(sequences, padding='post')\n",
        "\n",
        "# Convert tags to numerical values\n",
        "unique_tags = list(set(tags))\n",
        "tag_index = {tag: i for i, tag in enumerate(unique_tags)}\n",
        "numerical_tags = [tag_index[tag] for tag in tags]"
      ],
      "metadata": {
        "id": "UQ20d1WYlWSY"
      },
      "execution_count": 3,
      "outputs": []
    },
    {
      "cell_type": "code",
      "source": [
        "import pandas as pd\n",
        "\n",
        "# Convert the word index dictionary to a pandas DataFrame and display it\n",
        "word_index_df = pd.DataFrame(list(word_index.items()), columns=['Word', 'Index'])\n",
        "print(word_index_df.head())  # Show the first few rows"
      ],
      "metadata": {
        "colab": {
          "base_uri": "https://localhost:8080/"
        },
        "id": "2fe9JuAlnR1g",
        "outputId": "434fabed-95c7-4865-978e-aa40a646d575"
      },
      "execution_count": null,
      "outputs": [
        {
          "output_type": "stream",
          "name": "stdout",
          "text": [
            "    Word  Index\n",
            "0  <OOV>      1\n",
            "1    the      2\n",
            "2     is      3\n",
            "3    are      4\n",
            "4      a      5\n"
          ]
        }
      ]
    },
    {
      "cell_type": "code",
      "source": [
        "# Display original text alongside tokenized and padded sequences\n",
        "for i in range(5):  # Show the first 5 examples\n",
        "    print(f'Original Text: {patterns[i]}')\n",
        "    print(f'Tokenized Sequence: {sequences[i]}')\n",
        "    print(f'Padded Sequence: {padded_sequences[i]}')\n",
        "    print('\\n')  # Print a newline to separate examples"
      ],
      "metadata": {
        "colab": {
          "base_uri": "https://localhost:8080/"
        },
        "id": "onVRsImuoBJ5",
        "outputId": "091b333f-71e6-418b-c8d1-07b84155fca4"
      },
      "execution_count": null,
      "outputs": [
        {
          "output_type": "stream",
          "name": "stdout",
          "text": [
            "Original Text: Where is the university located?\n",
            "Tokenized Sequence: [14, 3, 2, 31, 124]\n",
            "Padded Sequence: [ 14   3   2  31 124   0   0   0   0   0]\n",
            "\n",
            "\n",
            "Original Text: Can you provide the location of the university?\n",
            "Tokenized Sequence: [10, 17, 125, 2, 156, 25, 2, 31]\n",
            "Padded Sequence: [ 10  17 125   2 156  25   2  31   0   0]\n",
            "\n",
            "\n",
            "Original Text: What's the address of the university?\n",
            "Tokenized Sequence: [38, 2, 236, 25, 2, 31]\n",
            "Padded Sequence: [ 38   2 236  25   2  31   0   0   0   0]\n",
            "\n",
            "\n",
            "Original Text: How can I contact the admissions office?\n",
            "Tokenized Sequence: [7, 10, 6, 39, 2, 63, 44]\n",
            "Padded Sequence: [ 7 10  6 39  2 63 44  0  0  0]\n",
            "\n",
            "\n",
            "Original Text: What is the contact information for admissions?\n",
            "Tokenized Sequence: [11, 3, 2, 39, 99, 9, 63]\n",
            "Padded Sequence: [11  3  2 39 99  9 63  0  0  0]\n",
            "\n",
            "\n"
          ]
        }
      ]
    },
    {
      "cell_type": "code",
      "source": [
        "# Convert the tag index dictionary to a pandas DataFrame and display it\n",
        "tag_index_df = pd.DataFrame(list(tag_index.items()), columns=['Tag', 'Index'])\n",
        "print(tag_index_df)\n"
      ],
      "metadata": {
        "colab": {
          "base_uri": "https://localhost:8080/"
        },
        "id": "AqP67-fxoKOT",
        "outputId": "36efdff0-be0d-4bc0-849b-a7f9da259fab"
      },
      "execution_count": null,
      "outputs": [
        {
          "output_type": "stream",
          "name": "stdout",
          "text": [
            "                       Tag  Index\n",
            "0                dormitory      0\n",
            "1                transport      1\n",
            "2        general_inquiries      2\n",
            "3                placement      3\n",
            "4               counseling      4\n",
            "5                emergency      5\n",
            "6                  parking      6\n",
            "7                 vacation      7\n",
            "8   international_students      8\n",
            "9        negative_feedback      9\n",
            "10        library_services     10\n",
            "11           campus_safety     11\n",
            "12                 housing     12\n",
            "13            student_life     13\n",
            "14                   swear     14\n",
            "15             transcripts     15\n",
            "16         health_services     16\n",
            "17          transportation     17\n",
            "18                 library     18\n",
            "19                    food     19\n",
            "20              salutation     20\n",
            "21                farewell     21\n",
            "22       positive_feedback     22\n",
            "23              admissions     23\n",
            "24                     hod     24\n",
            "25                 ragging     25\n",
            "26                 faculty     26\n",
            "27         extracurricular     27\n",
            "28                confused     28\n",
            "29                greeting     29\n",
            "30                 tuition     30\n",
            "31                   clubs     31\n",
            "32               cafeteria     32\n",
            "33            registration     33\n",
            "34                 apology     34\n",
            "35       academic_advising     35\n",
            "36         career_services     36\n",
            "37              graduation     37\n",
            "38                  thanks     38\n",
            "39                ID_cards     39\n",
            "40           inappropriate     40\n",
            "41           accommodation     41\n",
            "42                  hostel     42\n"
          ]
        }
      ]
    },
    {
      "cell_type": "code",
      "source": [
        "import matplotlib.pyplot as plt\n",
        "\n",
        "# Get the length of each sequence\n",
        "sequence_lengths = [len(seq) for seq in sequences]\n",
        "\n",
        "# Plot a histogram of sequence lengths\n",
        "plt.hist(sequence_lengths, bins=range(min(sequence_lengths), max(sequence_lengths) + 1))\n",
        "plt.title('Distribution of Sequence Lengths')\n",
        "plt.xlabel('Sequence Length')\n",
        "plt.ylabel('Frequency')\n",
        "plt.show()\n"
      ],
      "metadata": {
        "colab": {
          "base_uri": "https://localhost:8080/",
          "height": 472
        },
        "id": "cN5isEt-o4VS",
        "outputId": "3370c5e9-e7cf-4555-d3a8-35600b7e9de7"
      },
      "execution_count": null,
      "outputs": [
        {
          "output_type": "display_data",
          "data": {
            "text/plain": [
              "<Figure size 640x480 with 1 Axes>"
            ],
            "image/png": "[encoded data removed]"
          },
          "metadata": {}
        }
      ]
    }
  ]
}