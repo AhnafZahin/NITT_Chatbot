{
  "nbformat": 4,
  "nbformat_minor": 0,
  "metadata": {
    "colab": {
      "provenance": [],
      "authorship_tag": "ABX9TyM3WpLmm4L6yAy2uFGjbU+M",
      "include_colab_link": true
    },
    "kernelspec": {
      "name": "python3",
      "display_name": "Python 3"
    },
    "language_info": {
      "name": "python"
    }
  },
  "cells": [
    {
      "cell_type": "markdown",
      "metadata": {
        "id": "view-in-github",
        "colab_type": "text"
      },
      "source": [
        "<a href=\"https://colab.research.google.com/github/AhnafZahin/NITT_Chatbot/blob/main/Count-Vectorizer.ipynb\" target=\"_parent\"><img src=\"https://colab.research.google.com/assets/colab-badge.svg\" alt=\"Open In Colab\"/></a>"
      ]
    },
    {
      "cell_type": "code",
      "execution_count": 1,
      "metadata": {
        "colab": {
          "base_uri": "https://localhost:8080/",
          "height": 73
        },
        "id": "qyphicVlemTf",
        "outputId": "f51a84cf-34f6-4131-e01f-61e33177d554"
      },
      "outputs": [
        {
          "output_type": "display_data",
          "data": {
            "text/plain": [
              "<IPython.core.display.HTML object>"
            ],
            "text/html": [
              "\n",
              "     <input type=\"file\" id=\"files-88a58053-0e03-4921-a001-95cd84607768\" name=\"files[]\" multiple disabled\n",
              "        style=\"border:none\" />\n",
              "     <output id=\"result-88a58053-0e03-4921-a001-95cd84607768\">\n",
              "      Upload widget is only available when the cell has been executed in the\n",
              "      current browser session. Please rerun this cell to enable.\n",
              "      </output>\n",
              "      <script>// Copyright 2017 Google LLC\n",
              "//\n",
              "// Licensed under the Apache License, Version 2.0 (the \"License\");\n",
              "// you may not use this file except in compliance with the License.\n",
              "// You may obtain a copy of the License at\n",
              "//\n",
              "//      http://www.apache.org/licenses/LICENSE-2.0\n",
              "//\n",
              "// Unless required by applicable law or agreed to in writing, software\n",
              "// distributed under the License is distributed on an \"AS IS\" BASIS,\n",
              "// WITHOUT WARRANTIES OR CONDITIONS OF ANY KIND, either express or implied.\n",
              "// See the License for the specific language governing permissions and\n",
              "// limitations under the License.\n",
              "\n",
              "/**\n",
              " * @fileoverview Helpers for google.colab Python module.\n",
              " */\n",
              "(function(scope) {\n",
              "function span(text, styleAttributes = {}) {\n",
              "  const element = document.createElement('span');\n",
              "  element.textContent = text;\n",
              "  for (const key of Object.keys(styleAttributes)) {\n",
              "    element.style[key] = styleAttributes[key];\n",
              "  }\n",
              "  return element;\n",
              "}\n",
              "\n",
              "// Max number of bytes which will be uploaded at a time.\n",
              "const MAX_PAYLOAD_SIZE = 100 * 1024;\n",
              "\n",
              "function _uploadFiles(inputId, outputId) {\n",
              "  const steps = uploadFilesStep(inputId, outputId);\n",
              "  const outputElement = document.getElementById(outputId);\n",
              "  // Cache steps on the outputElement to make it available for the next call\n",
              "  // to uploadFilesContinue from Python.\n",
              "  outputElement.steps = steps;\n",
              "\n",
              "  return _uploadFilesContinue(outputId);\n",
              "}\n",
              "\n",
              "// This is roughly an async generator (not supported in the browser yet),\n",
              "// where there are multiple asynchronous steps and the Python side is going\n",
              "// to poll for completion of each step.\n",
              "// This uses a Promise to block the python side on completion of each step,\n",
              "// then passes the result of the previous step as the input to the next step.\n",
              "function _uploadFilesContinue(outputId) {\n",
              "  const outputElement = document.getElementById(outputId);\n",
              "  const steps = outputElement.steps;\n",
              "\n",
              "  const next = steps.next(outputElement.lastPromiseValue);\n",
              "  return Promise.resolve(next.value.promise).then((value) => {\n",
              "    // Cache the last promise value to make it available to the next\n",
              "    // step of the generator.\n",
              "    outputElement.lastPromiseValue = value;\n",
              "    return next.value.response;\n",
              "  });\n",
              "}\n",
              "\n",
              "/**\n",
              " * Generator function which is called between each async step of the upload\n",
              " * process.\n",
              " * @param {string} inputId Element ID of the input file picker element.\n",
              " * @param {string} outputId Element ID of the output display.\n",
              " * @return {!Iterable<!Object>} Iterable of next steps.\n",
              " */\n",
              "function* uploadFilesStep(inputId, outputId) {\n",
              "  const inputElement = document.getElementById(inputId);\n",
              "  inputElement.disabled = false;\n",
              "\n",
              "  const outputElement = document.getElementById(outputId);\n",
              "  outputElement.innerHTML = '';\n",
              "\n",
              "  const pickedPromise = new Promise((resolve) => {\n",
              "    inputElement.addEventListener('change', (e) => {\n",
              "      resolve(e.target.files);\n",
              "    });\n",
              "  });\n",
              "\n",
              "  const cancel = document.createElement('button');\n",
              "  inputElement.parentElement.appendChild(cancel);\n",
              "  cancel.textContent = 'Cancel upload';\n",
              "  const cancelPromise = new Promise((resolve) => {\n",
              "    cancel.onclick = () => {\n",
              "      resolve(null);\n",
              "    };\n",
              "  });\n",
              "\n",
              "  // Wait for the user to pick the files.\n",
              "  const files = yield {\n",
              "    promise: Promise.race([pickedPromise, cancelPromise]),\n",
              "    response: {\n",
              "      action: 'starting',\n",
              "    }\n",
              "  };\n",
              "\n",
              "  cancel.remove();\n",
              "\n",
              "  // Disable the input element since further picks are not allowed.\n",
              "  inputElement.disabled = true;\n",
              "\n",
              "  if (!files) {\n",
              "    return {\n",
              "      response: {\n",
              "        action: 'complete',\n",
              "      }\n",
              "    };\n",
              "  }\n",
              "\n",
              "  for (const file of files) {\n",
              "    const li = document.createElement('li');\n",
              "    li.append(span(file.name, {fontWeight: 'bold'}));\n",
              "    li.append(span(\n",
              "        `(${file.type || 'n/a'}) - ${file.size} bytes, ` +\n",
              "        `last modified: ${\n",
              "            file.lastModifiedDate ? file.lastModifiedDate.toLocaleDateString() :\n",
              "                                    'n/a'} - `));\n",
              "    const percent = span('0% done');\n",
              "    li.appendChild(percent);\n",
              "\n",
              "    outputElement.appendChild(li);\n",
              "\n",
              "    const fileDataPromise = new Promise((resolve) => {\n",
              "      const reader = new FileReader();\n",
              "      reader.onload = (e) => {\n",
              "        resolve(e.target.result);\n",
              "      };\n",
              "      reader.readAsArrayBuffer(file);\n",
              "    });\n",
              "    // Wait for the data to be ready.\n",
              "    let fileData = yield {\n",
              "      promise: fileDataPromise,\n",
              "      response: {\n",
              "        action: 'continue',\n",
              "      }\n",
              "    };\n",
              "\n",
              "    // Use a chunked sending to avoid message size limits. See b/62115660.\n",
              "    let position = 0;\n",
              "    do {\n",
              "      const length = Math.min(fileData.byteLength - position, MAX_PAYLOAD_SIZE);\n",
              "      const chunk = new Uint8Array(fileData, position, length);\n",
              "      position += length;\n",
              "\n",
              "      const base64 = btoa(String.fromCharCode.apply(null, chunk));\n",
              "      yield {\n",
              "        response: {\n",
              "          action: 'append',\n",
              "          file: file.name,\n",
              "          data: base64,\n",
              "        },\n",
              "      };\n",
              "\n",
              "      let percentDone = fileData.byteLength === 0 ?\n",
              "          100 :\n",
              "          Math.round((position / fileData.byteLength) * 100);\n",
              "      percent.textContent = `${percentDone}% done`;\n",
              "\n",
              "    } while (position < fileData.byteLength);\n",
              "  }\n",
              "\n",
              "  // All done.\n",
              "  yield {\n",
              "    response: {\n",
              "      action: 'complete',\n",
              "    }\n",
              "  };\n",
              "}\n",
              "\n",
              "scope.google = scope.google || {};\n",
              "scope.google.colab = scope.google.colab || {};\n",
              "scope.google.colab._files = {\n",
              "  _uploadFiles,\n",
              "  _uploadFilesContinue,\n",
              "};\n",
              "})(self);\n",
              "</script> "
            ]
          },
          "metadata": {}
        },
        {
          "output_type": "stream",
          "name": "stdout",
          "text": [
            "Saving university.json to university.json\n"
          ]
        }
      ],
      "source": [
        "from google.colab import files\n",
        "uploaded = files.upload()"
      ]
    },
    {
      "cell_type": "code",
      "source": [
        "import json\n",
        "\n",
        "# Assume the file name is 'dataset.json'\n",
        "with open('university.json', 'r') as file:\n",
        "    data = json.load(file)"
      ],
      "metadata": {
        "id": "B0UgeU1nerR5"
      },
      "execution_count": 2,
      "outputs": []
    },
    {
      "cell_type": "code",
      "source": [
        "from sklearn.feature_extraction.text import CountVectorizer\n",
        "from sklearn.preprocessing import LabelEncoder\n",
        "\n",
        "# Assuming data is your JSON data\n",
        "patterns = []\n",
        "responses = []\n",
        "tags = []\n",
        "for intent in data:\n",
        "    for pattern in intent['patterns']:\n",
        "        patterns.append(pattern)\n",
        "        responses.append(intent['responses'][0])  # Keeping your assumption of taking the first response\n",
        "        tags.append(intent['tag'])\n",
        "\n",
        "# Create the CountVectorizer instance\n",
        "vectorizer = CountVectorizer()\n",
        "\n",
        "# Fit the vectorizer and transform your text data\n",
        "X = vectorizer.fit_transform(patterns)\n",
        "\n",
        "# Now, X is a matrix where each row corresponds to a document and each column corresponds to a word.\n",
        "# The value in each cell is the count of that word in that document.\n",
        "\n",
        "# For the tags, you can use LabelEncoder to convert them to numerical values\n",
        "label_encoder = LabelEncoder()\n",
        "y = label_encoder.fit_transform(tags)\n",
        "\n",
        "# Now, y is a vector of numerical values representing your tags.\n",
        "\n",
        "# Optionally convert to dense matrix/array if needed (be cautious as this can consume more memory)\n",
        "# X_dense = X.toarray()"
      ],
      "metadata": {
        "id": "km_lCLPIewqo"
      },
      "execution_count": 3,
      "outputs": []
    },
    {
      "cell_type": "code",
      "source": [
        "print(vectorizer.vocabulary_)"
      ],
      "metadata": {
        "colab": {
          "base_uri": "https://localhost:8080/"
        },
        "id": "y3VjFnyxe0Tl",
        "outputId": "bb2b2c42-cffd-4b4b-ecf4-55367ef55e0d"
      },
      "execution_count": 4,
      "outputs": [
        {
          "output_type": "stream",
          "name": "stdout",
          "text": [
            "{'where': 471, 'is': 232, 'the': 429, 'university': 447, 'located': 253, 'can': 70, 'you': 482, 'provide': 339, 'location': 254, 'of': 295, 'what': 469, 'address': 6, 'how': 214, 'contact': 105, 'admissions': 8, 'office': 299, 'information': 225, 'for': 173, 'info': 224, 'tuition': 440, 'fee': 167, 'undergraduate': 444, 'programs': 338, 'much': 281, 'undergrad': 443, 'cost': 106, 'are': 34, 'there': 431, 'scholarships': 381, 'available': 42, 'do': 127, 'offer': 297, 'financial': 170, 'aid': 15, 'when': 470, 'applications': 28, 'open': 303, 'fall': 165, 'intake': 227, 'apply': 29, 'semester': 386, 'does': 130, 'application': 27, 'process': 335, 'begin': 48, 'find': 171, 'map': 263, 'get': 180, 'campus': 69, 'tell': 425, 'me': 266, 'about': 0, 'faculty': 161, 'who': 472, 'notable': 292, 'any': 24, 'award': 44, 'winning': 474, 'to': 434, 'student': 416, 'ratio': 347, 'qualifications': 343, 'professors': 336, 'in': 218, 'computer': 100, 'science': 383, 'department': 122, 'mechanical': 270, 'engineering': 148, 'electrical': 143, 'chemistry': 83, 'physics': 322, 'mathematics': 265, 'biology': 51, 'economics': 141, 'accommodation': 3, 'facilities': 160, 'on': 301, 'housing': 213, 'hostel': 210, 'options': 305, 'meal': 267, 'plans': 327, 'dormitories': 134, 'deadline': 118, 'roommates': 372, 'assigned': 37, 'choose': 84, 'my': 283, 'roommate': 371, 'off': 296, 'affiliated': 11, 'residences': 361, 'move': 280, 'into': 230, 'clubs': 90, 'and': 22, 'organizations': 307, 'life': 249, 'run': 375, 'publications': 342, 'social': 399, 'scene': 379, 'events': 153, 'or': 306, 'festivals': 169, 'sports': 405, 'teams': 424, 'have': 194, 'join': 237, 'club': 89, 'some': 400, 'popular': 330, 'activities': 4, 'school': 382, 'spirit': 404, 'like': 250, 'opportunities': 304, 'community': 98, 'service': 388, 'fraternities': 174, 'sororities': 401, 'weekends': 467, 'last': 243, 'date': 115, 'prerequisites': 332, 'admission': 7, 'an': 21, 'entrance': 151, 'exam': 154, 'will': 473, 'know': 240, 'result': 365, 'defer': 121, 'documents': 129, 'required': 357, 'orientation': 308, 'program': 337, 'new': 288, 'students': 417, 'visit': 458, 'before': 47, 'applying': 30, 'incoming': 221, 'career': 75, 'services': 389, 'internship': 229, 'companies': 99, 'recruit': 349, 'from': 176, 'here': 203, 'job': 236, 'placement': 324, 'average': 43, 'salary': 378, 'graduates': 187, 'assist': 38, 'with': 476, 'placements': 325, 'more': 278, 'fairs': 164, 'conducted': 102, 'networking': 287, 'alumni': 19, 'safety': 377, 'safe': 376, 'at': 40, 'night': 290, 'measures': 269, 'place': 323, 'police': 328, 'report': 355, 'incident': 219, 'procedure': 333, 'emergencies': 144, 'emergency': 145, 'call': 67, 'boxes': 57, 'sexual': 390, 'misconduct': 276, 'policy': 329, 'library': 248, 'hours': 212, 'borrow': 55, 'books': 54, 'digital': 126, 'access': 2, 'resources': 363, 'online': 302, 'study': 418, 'spaces': 403, 'reserve': 360, 'room': 370, 'collaborative': 93, 'support': 422, 'research': 359, 'health': 196, 'clinic': 88, 'medical': 271, 'make': 260, 'appointment': 32, 'counseling': 107, 'insurance': 226, 'coverage': 109, 'if': 216, 'dormitory': 135, 'dorm': 133, 'rules': 374, 'dorms': 136, 'co': 91, 'ed': 142, 'items': 235, 'provided': 340, 'rooms': 373, 'curfew': 112, 'living': 252, 'plan': 326, 'residents': 362, 'extracurricular': 159, 'music': 282, 'arts': 36, 'start': 408, 'held': 198, 'gym': 190, 'international': 228, 'improve': 217, 'english': 149, 'cultural': 111, 'exchange': 156, 'visa': 457, 'obtaining': 294, 'work': 478, 'permit': 320, 'language': 242, 'schedule': 380, 'academic': 1, 'advisor': 10, 'advising': 9, 'change': 82, 'major': 259, 'need': 286, 'help': 201, 'class': 86, 'withdraw': 477, 'course': 108, 'struggling': 415, 'classes': 87, 'transportation': 438, 'shuttle': 395, 'park': 312, 'car': 72, 'parking': 313, 'bike': 50, 'racks': 345, 'pedestrian': 317, 'friendly': 175, 'nearest': 285, 'public': 341, 'station': 411, 'anti': 23, 'ragging': 346, 'has': 193, 'been': 46, 'incidents': 220, 'deal': 120, 'consequences': 104, 'campaigns': 68, 'against': 14, 'am': 20, 'afraid': 12, 'should': 394, 'stance': 407, 'committee': 97, 'handle': 192, 'issues': 233, 'head': 195, 'meeting': 272, 'hod': 206, 'hods': 207, 'all': 16, 'departments': 123, 'list': 251, 'website': 466, 'role': 369, 'was': 462, 'current': 113, 'appointed': 31, 'thank': 426, 'your': 483, 've': 454, 'very': 456, 'helpful': 202, 'appreciate': 33, 'assistance': 39, 'thanks': 427, 're': 348, 'great': 189, 'that': 428, 'bunch': 62, 'keep': 239, 'up': 448, 'good': 182, 'summer': 421, 'vacation': 451, 'winter': 475, 'break': 59, 'breaks': 60, 'during': 139, 'official': 300, 'holidays': 208, 'year': 481, 'end': 146, 'spring': 406, 'long': 255, 'we': 464, 'come': 95, 'college': 94, 'vacations': 452, 'next': 289, 'useless': 450, 'waste': 463, 'suck': 420, 'hell': 199, 'this': 432, 'shit': 392, 'joke': 238, 'fuck': 177, 'bloody': 52, 'failure': 162, 'damn': 114, 'hot': 211, 'send': 387, 'nudes': 293, 'sexy': 391, 'wearing': 465, 'boyfriend': 58, 'single': 396, 'want': 461, 'go': 181, 'out': 309, 'look': 256, 'attractive': 41, 'let': 247, 'fun': 178, 'card': 73, 'area': 35, 'many': 262, 'time': 433, 'book': 53, 'late': 244, 'returning': 367, 'computers': 101, 'workshops': 479, 'tutorials': 441, 'lot': 258, 'rack': 344, 'carpool': 76, 'bus': 63, 'stop': 413, 'far': 166, 'train': 435, 'bring': 61, 'skateboard': 397, 'food': 172, 'cafeteria': 66, 'own': 310, 'vegetarian': 455, 'coffee': 92, 'shop': 393, 'trucks': 439, 'heat': 197, 'restaurants': 364, 'nearby': 284, 'borrowing': 56, 'allotment': 18, 'statistics': 412, 'coming': 96, 'prepare': 331, 'cell': 79, 'package': 311, 'offered': 298, 'menu': 274, 'payment': 316, 'methods': 275, 'due': 138, 'pay': 315, 'refund': 350, 'security': 384, 'procedures': 334, 'pass': 314, 'visitors': 459, 'enforcement': 147, 'fair': 163, 'dates': 116, 'starting': 409, 'leadership': 246, 'mental': 273, 'center': 80, 'stress': 414, 'management': 261, 'matching': 264, 'see': 385, 'doctor': 128, 'vaccination': 453, 'rental': 353, 'lab': 241, 'resume': 366, 'registration': 352, 'register': 351, 'add': 5, 'drop': 137, 'period': 319, 'catalog': 78, 'request': 356, 'transcript': 436, 'transcripts': 437, 'it': 234, 'take': 423, 'cafes': 65, 'halal': 191, 'allergy': 17, 'permits': 321, 'carpooling': 77, 'subway': 419, 'fees': 168, 'deadlines': 119, 'per': 318, 'credit': 110, 'state': 410, 'intramural': 231, 'theater': 430, 'ensembles': 150, 'volunteer': 460, 'government': 184, 'id': 215, 'lost': 257, 'replace': 354, 'used': 449, 'benefits': 49, 'expiration': 157, 'graduation': 188, 'requirements': 358, 'cap': 71, 'gown': 185, 'ceremony': 81, 'details': 124, 'graduate': 186, 'early': 140, 'honors': 209, 'so': 398, 'sorry': 402, 'apologies': 25, 'apologize': 26, 'misunderstanding': 277, 'inconvenience': 222, 'hello': 200, 'hi': 205, 'hey': 204, 'morning': 279, 'afternoon': 13, 'evening': 152, 'goodbye': 183, 'bye': 64, 'later': 245, 'care': 74, 'day': 117, 'well': 468, 'done': 132, 'right': 368, 'excellent': 155, 'wrong': 480, 'incorrect': 223, 'not': 291, 'bad': 45, 'didn': 125, 'unhelpful': 446, 'don': 131, 'understand': 445, 'clarify': 85, 'confused': 103, 'mean': 268, 'unclear': 442, 'explain': 158, 'further': 179}\n"
          ]
        }
      ]
    },
    {
      "cell_type": "code",
      "source": [
        "sample_index = 0  # for the first document, change as needed\n",
        "sample_vector = X[sample_index].toarray()\n",
        "print(sample_vector)"
      ],
      "metadata": {
        "colab": {
          "base_uri": "https://localhost:8080/"
        },
        "id": "TpahYsN5fERY",
        "outputId": "6c85e063-c1cd-4629-fe89-a3f341a3b93e"
      },
      "execution_count": 5,
      "outputs": [
        {
          "output_type": "stream",
          "name": "stdout",
          "text": [
            "[[0 0 0 0 0 0 0 0 0 0 0 0 0 0 0 0 0 0 0 0 0 0 0 0 0 0 0 0 0 0 0 0 0 0 0 0\n",
            "  0 0 0 0 0 0 0 0 0 0 0 0 0 0 0 0 0 0 0 0 0 0 0 0 0 0 0 0 0 0 0 0 0 0 0 0\n",
            "  0 0 0 0 0 0 0 0 0 0 0 0 0 0 0 0 0 0 0 0 0 0 0 0 0 0 0 0 0 0 0 0 0 0 0 0\n",
            "  0 0 0 0 0 0 0 0 0 0 0 0 0 0 0 0 0 0 0 0 0 0 0 0 0 0 0 0 0 0 0 0 0 0 0 0\n",
            "  0 0 0 0 0 0 0 0 0 0 0 0 0 0 0 0 0 0 0 0 0 0 0 0 0 0 0 0 0 0 0 0 0 0 0 0\n",
            "  0 0 0 0 0 0 0 0 0 0 0 0 0 0 0 0 0 0 0 0 0 0 0 0 0 0 0 0 0 0 0 0 0 0 0 0\n",
            "  0 0 0 0 0 0 0 0 0 0 0 0 0 0 0 0 1 0 0 0 0 0 0 0 0 0 0 0 0 0 0 0 0 0 0 0\n",
            "  0 1 0 0 0 0 0 0 0 0 0 0 0 0 0 0 0 0 0 0 0 0 0 0 0 0 0 0 0 0 0 0 0 0 0 0\n",
            "  0 0 0 0 0 0 0 0 0 0 0 0 0 0 0 0 0 0 0 0 0 0 0 0 0 0 0 0 0 0 0 0 0 0 0 0\n",
            "  0 0 0 0 0 0 0 0 0 0 0 0 0 0 0 0 0 0 0 0 0 0 0 0 0 0 0 0 0 0 0 0 0 0 0 0\n",
            "  0 0 0 0 0 0 0 0 0 0 0 0 0 0 0 0 0 0 0 0 0 0 0 0 0 0 0 0 0 0 0 0 0 0 0 0\n",
            "  0 0 0 0 0 0 0 0 0 0 0 0 0 0 0 0 0 0 0 0 0 0 0 0 0 0 0 0 0 0 0 0 0 1 0 0\n",
            "  0 0 0 0 0 0 0 0 0 0 0 0 0 0 0 1 0 0 0 0 0 0 0 0 0 0 0 0 0 0 0 0 0 0 0 0\n",
            "  0 0 0 1 0 0 0 0 0 0 0 0 0 0 0 0]]\n"
          ]
        }
      ]
    },
    {
      "cell_type": "code",
      "source": [
        "sample_index = 0  # for the first document, change as needed\n",
        "decoded_words = vectorizer.inverse_transform(X[sample_index])\n",
        "print(decoded_words)"
      ],
      "metadata": {
        "colab": {
          "base_uri": "https://localhost:8080/"
        },
        "id": "eNmyosmRf8uv",
        "outputId": "652066ec-59fb-423a-bfdf-3d602bd0354c"
      },
      "execution_count": 9,
      "outputs": [
        {
          "output_type": "stream",
          "name": "stdout",
          "text": [
            "[array(['where', 'is', 'the', 'university', 'located'], dtype='<U16')]\n"
          ]
        }
      ]
    },
    {
      "cell_type": "code",
      "source": [],
      "metadata": {
        "id": "yjKQogxxf_zE"
      },
      "execution_count": null,
      "outputs": []
    }
  ]
}